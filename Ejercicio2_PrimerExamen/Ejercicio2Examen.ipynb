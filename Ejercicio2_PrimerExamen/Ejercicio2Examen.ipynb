{
 "cells": [
  {
   "cell_type": "markdown",
   "id": "42b79c50",
   "metadata": {},
   "source": [
    "## Ejercicio 1"
   ]
  },
  {
   "cell_type": "code",
   "execution_count": 2,
   "id": "04371ee4",
   "metadata": {},
   "outputs": [],
   "source": [
    "divisibleN x d \n",
    " | r = x\n",
    " | otherwise = 0\n",
    "     where\n",
    "        m = [mod x i == 0 | i <-[1..d]]\n",
    "        r = and m "
   ]
  },
  {
   "cell_type": "markdown",
   "id": "ee68d505",
   "metadata": {},
   "source": [
    "## Ejercicio 2"
   ]
  },
  {
   "cell_type": "code",
   "execution_count": 3,
   "id": "9f08db6e",
   "metadata": {},
   "outputs": [
    {
     "data": {
      "text/plain": [
       "15.0"
      ]
     },
     "metadata": {},
     "output_type": "display_data"
    }
   ],
   "source": [
    "mediacorrecta d n = respuesta\n",
    "  where\n",
    "   arreglo = take n (filter (>0) [divisibleN x d | x <- [1..]])\n",
    "   --b = take n (filter (>0) arreglo)\n",
    "   suma = sum arreglo\n",
    "   tamaño = length arreglo\n",
    "   respuesta = fromIntegral suma / fromIntegral tamaño \n",
    "   \n",
    "mediacorrecta 3 4"
   ]
  }
 ],
 "metadata": {
  "kernelspec": {
   "display_name": "Haskell",
   "language": "haskell",
   "name": "haskell"
  },
  "language_info": {
   "codemirror_mode": "ihaskell",
   "file_extension": ".hs",
   "mimetype": "text/x-haskell",
   "name": "haskell",
   "pygments_lexer": "Haskell",
   "version": "8.10.7"
  }
 },
 "nbformat": 4,
 "nbformat_minor": 5
}
