{
  "nbformat": 4,
  "nbformat_minor": 0,
  "metadata": {
    "colab": {
      "name": "Laboratorio01_Mineria_pysparkipynb.ipynb",
      "provenance": []
    },
    "kernelspec": {
      "name": "python3",
      "display_name": "Python 3"
    },
    "language_info": {
      "name": "python"
    }
  },
  "cells": [
    {
      "cell_type": "markdown",
      "source": [
        "## **Instalamos pyspark**"
      ],
      "metadata": {
        "id": "PM-a-xOjSS1j"
      }
    },
    {
      "cell_type": "markdown",
      "source": [
        ""
      ],
      "metadata": {
        "id": "2WOjS3uUSSuP"
      }
    },
    {
      "cell_type": "code",
      "execution_count": 1,
      "metadata": {
        "id": "wyaRFMfclbZ3",
        "colab": {
          "base_uri": "https://localhost:8080/"
        },
        "outputId": "608e6285-f12b-47c4-b081-dd63c43223d1"
      },
      "outputs": [
        {
          "output_type": "stream",
          "name": "stdout",
          "text": [
            "Requirement already satisfied: pyspark in /usr/local/lib/python3.7/dist-packages (3.2.0)\n",
            "Requirement already satisfied: py4j==0.10.9.2 in /usr/local/lib/python3.7/dist-packages (from pyspark) (0.10.9.2)\n"
          ]
        }
      ],
      "source": [
        "! pip install pyspark"
      ]
    },
    {
      "cell_type": "markdown",
      "source": [
        "## **Llamamos a su libreria y la guardamos en una variable para usarla**"
      ],
      "metadata": {
        "id": "Pw_UwFgcSWJM"
      }
    },
    {
      "cell_type": "code",
      "source": [
        "from pyspark import SparkContext\n",
        "sc = SparkContext()"
      ],
      "metadata": {
        "id": "Mb3GOulJPygE"
      },
      "execution_count": 2,
      "outputs": []
    },
    {
      "cell_type": "markdown",
      "source": [
        "## **Distancia de Mikowski**"
      ],
      "metadata": {
        "id": "7y50ZsaxRQ1p"
      }
    },
    {
      "cell_type": "code",
      "source": [
        "#Creamos el primer vector \n",
        "vector1 = [0, 2, 3, 4] \n",
        "#Creamos el segundo vector\n",
        "vector2 = [2, 4, 3, 7] \n",
        "#Inicializamos el valor de P\n",
        "p = 3\n",
        "#3.503 salida con los vectores"
      ],
      "metadata": {
        "id": "PeLhmBEMPwPO"
      },
      "execution_count": 3,
      "outputs": []
    },
    {
      "cell_type": "markdown",
      "source": [
        "**Creamos un vector 3 donde tendremos una tupla la cual se creara con un zip, en la cual se juntaran los 2 vectores(vector1 y vector2) para asi poder utilizarlo en nuestro**"
      ],
      "metadata": {
        "id": "smIZ5wUlSEk6"
      }
    },
    {
      "cell_type": "code",
      "source": [
        "vector3 = list(zip(vector1,vector2))"
      ],
      "metadata": {
        "id": "B5oBF1wsRMDK"
      },
      "execution_count": 4,
      "outputs": []
    },
    {
      "cell_type": "markdown",
      "source": [
        "**Creamos nuestro RDD utilizando sc**"
      ],
      "metadata": {
        "id": "zl9sjOZzSOFl"
      }
    },
    {
      "cell_type": "code",
      "source": [
        "mikowskiRDD = sc.parallelize(vector3)"
      ],
      "metadata": {
        "id": "I8syuBEbSdoG"
      },
      "execution_count": 5,
      "outputs": []
    },
    {
      "cell_type": "markdown",
      "source": [
        "**Aplicamos las funciones en nuestro RDD**"
      ],
      "metadata": {
        "id": "6ak6sFY9ShQZ"
      }
    },
    {
      "cell_type": "code",
      "source": [
        "#mikowskiRDD.map(lambda x: abs(x[0] - x[1])^p)\n",
        "#En esta parte creamos nuestra funcion anonima lambda en la cual \n",
        "#le pasaremos las tuplas 1 a 1 para asi poder hallar con ellas la \n",
        "#resta del primer valor \"(x[0])\" menos el segundo \"(x[1])\" \n",
        "#y todo esto aplicandole el valor absoluto a dicha resta(abs) \n",
        "#para una vez obtenido ese resultado se le eleve a la potencia p (**p).\n",
        "\n",
        "#.sum() \n",
        "#Luego se le agrega el \".sum()\" para que todos los valores obtenidos \n",
        "#anteriormente se sumen.\n",
        "\n",
        "#^(1.0/p)\n",
        "#Por ultimo se le eleva a la potencia \"(1.0/p)\" o se le saca la raiz \"p\".\n",
        "#Una vez obtenido todos estos, nos da la distancia de mikowski\n",
        "\n",
        "mikowskiRDD.map(lambda x: abs(x[0] - x[1])**p).sum()**(1.0/p)"
      ],
      "metadata": {
        "colab": {
          "base_uri": "https://localhost:8080/"
        },
        "id": "yAw7MsXRShti",
        "outputId": "d68cfb1b-5fe6-4afd-ef88-2466212d77cc"
      },
      "execution_count": 6,
      "outputs": [
        {
          "output_type": "execute_result",
          "data": {
            "text/plain": [
              "3.503398060386724"
            ]
          },
          "metadata": {},
          "execution_count": 6
        }
      ]
    },
    {
      "cell_type": "markdown",
      "source": [
        "## **Distancia Euclidiana**"
      ],
      "metadata": {
        "id": "0hNdaO6jVisk"
      }
    },
    {
      "cell_type": "code",
      "source": [
        "#Creamos el primer vector \n",
        "vector1 = [1, 2, 3] \n",
        "#Creamos el segundo vector\n",
        "vector2 = [3, 2, 1] "
      ],
      "metadata": {
        "id": "UF4c8Gs-Vpr1"
      },
      "execution_count": 7,
      "outputs": []
    },
    {
      "cell_type": "markdown",
      "source": [
        "**Creamos un vector 3 donde tendremos una tupla la cual se creara con un zip, en la cual se juntaran los 2 vectores(vector1 y vector2) para asi poder utilizarlo en nuestro**"
      ],
      "metadata": {
        "id": "6US-ILvNV1Ks"
      }
    },
    {
      "cell_type": "code",
      "source": [
        "vector3 = list(zip(vector1,vector2))"
      ],
      "metadata": {
        "id": "ifoJQyx6Vu9s"
      },
      "execution_count": 8,
      "outputs": []
    },
    {
      "cell_type": "markdown",
      "source": [
        "**Creamos nuestro RDD utilizando sc**"
      ],
      "metadata": {
        "id": "4Y15xQMlV-zu"
      }
    },
    {
      "cell_type": "code",
      "source": [
        "mikowskiRDD = sc.parallelize(vector3)"
      ],
      "metadata": {
        "id": "1yOtlPg2VihD"
      },
      "execution_count": 9,
      "outputs": []
    },
    {
      "cell_type": "markdown",
      "source": [
        "**Para la distancia auclidiana el valor de p es 2**"
      ],
      "metadata": {
        "id": "LK4C_MAHVkqY"
      }
    },
    {
      "cell_type": "code",
      "source": [
        "mikowskiRDD.map(lambda x: abs(x[0] - x[1])**2).sum()**(1.0/2)"
      ],
      "metadata": {
        "colab": {
          "base_uri": "https://localhost:8080/"
        },
        "id": "gCbo1jBlVxca",
        "outputId": "b23aff2f-8028-4dac-d904-cdef57b6a0a4"
      },
      "execution_count": 10,
      "outputs": [
        {
          "output_type": "execute_result",
          "data": {
            "text/plain": [
              "2.8284271247461903"
            ]
          },
          "metadata": {},
          "execution_count": 10
        }
      ]
    },
    {
      "cell_type": "markdown",
      "source": [
        "## **Similitud de Cosenos**"
      ],
      "metadata": {
        "id": "yGx59GYOU1_V"
      }
    },
    {
      "cell_type": "code",
      "source": [
        "#Creamos el primer vector \n",
        "vector1 = [1, 1, 2, 1, 1, 1, 1, 0, 0, 0] \n",
        "#Creamos el segundo vector\n",
        "vector2 = [1, 1, 1, 0, 1, 1, 1, 1, 1, 1] \n",
        "#Creamos un tercer vector\n",
        "vector3 = list(zip(vector1,vector2))"
      ],
      "metadata": {
        "id": "-_mbgUEaXz3t"
      },
      "execution_count": 11,
      "outputs": []
    },
    {
      "cell_type": "markdown",
      "source": [
        "**Creamos un RDD para cada uno de nuestros vectores ya que con estos se hallaras distintas operaciones**"
      ],
      "metadata": {
        "id": "OSqYpH4zeZF9"
      }
    },
    {
      "cell_type": "code",
      "source": [
        "cosenos1RDD = sc.parallelize(vector1)\n",
        "cosenos2RDD = sc.parallelize(vector2)\n",
        "cosenos3RDD = sc.parallelize(vector3)"
      ],
      "metadata": {
        "id": "0ZXWPxmPAD47"
      },
      "execution_count": 12,
      "outputs": []
    },
    {
      "cell_type": "markdown",
      "source": [
        "**Creamos nuestras funciones para RDD**\n"
      ],
      "metadata": {
        "id": "By5DoGvuepjP"
      }
    },
    {
      "cell_type": "code",
      "source": [
        "#cosenos3RDD.map(lambda x: x[0]*x[1]).sum()\n",
        "#Primero le aplicamos una funcion map en la cual pasamos una funciona \n",
        "#lambda la cual hara que multipliquemos ambos valores de la tupla \n",
        "#para asi onbtener con la funcion .sum(), la suma de todos estos\n",
        "\n",
        "#cosenos1RDD.map(lambda x:x^2).sum()^(1/2)\n",
        "#Ahora de igual manera le aplicamos la funcion map en la cual pasaremos \n",
        "#una funcion lambda la cual hara que elevemos al cuadrado todos los \n",
        "#valores del vector 1 para asi sumarlos y a ese resultado sacarle la \n",
        "#raiz cuadrada.\n",
        "\n",
        "#cosenos2RDD.map(lambda x:x^2).sum()^(1/2))\n",
        "#Ahora de igual manera le aplicamos la funcion map en la cual \n",
        "#pasaremos una funcion lambda la cual hara que elevemos al cuadrado \n",
        "#todos los valores del vector 2 para asi sumarlos y a ese resultado \n",
        "#sacarle la raiz cuadrada.\n",
        "\n",
        "#Por ultimos dividiremos la funcion cosenos3RDD.map(lambda x: x[0]*x[1]).sum()\n",
        "#entre la multiplicacion de la funcion cosenos1RDD.map(lambda x:x^2).sum()^(1/2) \n",
        "#por cosenos2RDD.map(lambda x:x^2).sum()^(1/2))\n",
        "\n",
        "respuesta = cosenos3RDD.map(lambda x: x[0]*x[1]).sum() / (cosenos1RDD.map(lambda x:x**2).sum()**(1/2) * cosenos2RDD.map(lambda x:x**2).sum()**(1/2))\n",
        "respuesta"
      ],
      "metadata": {
        "colab": {
          "base_uri": "https://localhost:8080/"
        },
        "id": "tjSPIDcdeqOJ",
        "outputId": "b83df5e8-dd8f-4c70-f92f-b7e769233069"
      },
      "execution_count": 13,
      "outputs": [
        {
          "output_type": "execute_result",
          "data": {
            "text/plain": [
              "0.7378647873726218"
            ]
          },
          "metadata": {},
          "execution_count": 13
        }
      ]
    },
    {
      "cell_type": "markdown",
      "source": [
        "## **Estandarizacion**"
      ],
      "metadata": {
        "id": "80j9spTkXPxO"
      }
    },
    {
      "cell_type": "code",
      "source": [
        "#importamos la libreria math\n",
        "import math\n",
        "x = [1500,1200,1700,1300,1800]"
      ],
      "metadata": {
        "id": "sygOaIJ8U4jQ"
      },
      "execution_count": 14,
      "outputs": []
    },
    {
      "cell_type": "markdown",
      "source": [
        "**Creamos nuestro RDD utilizando sc**"
      ],
      "metadata": {
        "id": "157F2lWkpxVK"
      }
    },
    {
      "cell_type": "code",
      "source": [
        "#Creamos nuestro RDD\n",
        "xRDD = sc.parallelize(x)"
      ],
      "metadata": {
        "id": "S-IUv43xppc0"
      },
      "execution_count": 15,
      "outputs": []
    },
    {
      "cell_type": "markdown",
      "source": [
        "**Aplicamos las funciones a nuestro RDD**"
      ],
      "metadata": {
        "id": "fFTWkN0AqK7Y"
      }
    },
    {
      "cell_type": "code",
      "source": [
        "#Hallamos la media de los valores\n",
        "meanRDD = xRDD.mean() \n",
        "#utilizamos la variable meanRDD para hallar la varianza\n",
        "varRDD = xRDD.map(lambda x: (x - meanRDD)**2).mean()\n",
        "#utilizamos la varaible de varRDD para hallar el std\n",
        "stdRDD = math.sqrt(varRDD)\n",
        "#Hallamos el valor de la estandarizacion\n",
        "toCenterRDD = xRDD.map(lambda x: (x-meanRDD) / stdRDD)\n",
        "toCenterRDD.collect()"
      ],
      "metadata": {
        "colab": {
          "base_uri": "https://localhost:8080/"
        },
        "id": "kUXrtJ-hppQ9",
        "outputId": "cdfd2192-5386-49ba-b204-cf90250bd85b"
      },
      "execution_count": 16,
      "outputs": [
        {
          "output_type": "execute_result",
          "data": {
            "text/plain": [
              "[0.0,\n",
              " -1.3155870289605438,\n",
              " 0.8770580193070292,\n",
              " -0.8770580193070292,\n",
              " 1.3155870289605438]"
            ]
          },
          "metadata": {},
          "execution_count": 16
        }
      ]
    },
    {
      "cell_type": "markdown",
      "source": [
        "## **Escalonamiento**"
      ],
      "metadata": {
        "id": "5eIu4F-vauAP"
      }
    },
    {
      "cell_type": "code",
      "source": [
        "x = [5,6,7,8,9,4,10,15,12,18,52,14,26,27,35,34,51,50]"
      ],
      "metadata": {
        "id": "mM0h-CqHp5af"
      },
      "execution_count": 17,
      "outputs": []
    },
    {
      "cell_type": "markdown",
      "source": [
        "**Creamos nuestro RDD con sc**"
      ],
      "metadata": {
        "id": "JLftq_wZp9VR"
      }
    },
    {
      "cell_type": "code",
      "source": [
        "#Creamos nuestro RDD\n",
        "xRDD = sc.parallelize(x)"
      ],
      "metadata": {
        "id": "HV3WMKAHatqg"
      },
      "execution_count": 18,
      "outputs": []
    },
    {
      "cell_type": "markdown",
      "source": [
        "**Aplicamos las funciones a nuestro RDD**"
      ],
      "metadata": {
        "id": "NQVk94sjqRK5"
      }
    },
    {
      "cell_type": "code",
      "source": [
        "#Hallamos el valor maximo\n",
        "minRDD = xRDD.max()\n",
        "#Hallamo el valor minimo\n",
        "maxRDD = xRDD.min()\n",
        "#Hallamos el escalonamineto aplicando las variables maximo y minimo\n",
        "scaleRDD = xRDD.map(lambda x: (x - minRDD) / (maxRDD - minRDD))\n",
        "#Mostramos los daots\n",
        "scaleRDD.collect()"
      ],
      "metadata": {
        "colab": {
          "base_uri": "https://localhost:8080/"
        },
        "id": "cGyikoY_p5FY",
        "outputId": "32392b80-0291-4885-9882-a897c927f4c7"
      },
      "execution_count": 19,
      "outputs": [
        {
          "output_type": "execute_result",
          "data": {
            "text/plain": [
              "[0.9791666666666666,\n",
              " 0.9583333333333334,\n",
              " 0.9375,\n",
              " 0.9166666666666666,\n",
              " 0.8958333333333334,\n",
              " 1.0,\n",
              " 0.875,\n",
              " 0.7708333333333334,\n",
              " 0.8333333333333334,\n",
              " 0.7083333333333334,\n",
              " -0.0,\n",
              " 0.7916666666666666,\n",
              " 0.5416666666666666,\n",
              " 0.5208333333333334,\n",
              " 0.3541666666666667,\n",
              " 0.375,\n",
              " 0.020833333333333332,\n",
              " 0.041666666666666664]"
            ]
          },
          "metadata": {},
          "execution_count": 19
        }
      ]
    },
    {
      "cell_type": "markdown",
      "source": [
        "##**Normalizacion**"
      ],
      "metadata": {
        "id": "TKT0ptZUcBu0"
      }
    },
    {
      "cell_type": "code",
      "source": [
        "import math\n",
        "x = [1,2,3,4]"
      ],
      "metadata": {
        "id": "zavqy8rDqCEq"
      },
      "execution_count": 20,
      "outputs": []
    },
    {
      "cell_type": "markdown",
      "source": [
        "**Creamos nuestro RDD con sc**"
      ],
      "metadata": {
        "id": "BsCM7dSdqCiV"
      }
    },
    {
      "cell_type": "code",
      "source": [
        "#CREamos nuestro RDD\n",
        "xRDD = sc.parallelize(x)"
      ],
      "metadata": {
        "id": "w-Eqg6ksqEFS"
      },
      "execution_count": 21,
      "outputs": []
    },
    {
      "cell_type": "markdown",
      "source": [
        "**Aplicamos las funciones a nuestro RDD**"
      ],
      "metadata": {
        "id": "XZ7hr5blqUJZ"
      }
    },
    {
      "cell_type": "code",
      "source": [
        "#Con la funcion map elevamos al cuadrado todos los datos del\n",
        "#RDD y los sumamos a este le sacamos la raiz cuadrada\n",
        "nxRDD = (xRDD.map(lambda x: x**2).sum()) ** (1/2)\n",
        "#El resultado anterior se le divide a todos los datos del RDD iinicial\n",
        "normRDD = xRDD.map(lambda x: x/nxRDD)\n",
        "#Mostramos el resultado de la normalizacion \n",
        "normRDD.collect()"
      ],
      "metadata": {
        "colab": {
          "base_uri": "https://localhost:8080/"
        },
        "id": "eTqV2w7rb-9x",
        "outputId": "b7bd8ebb-ee27-4da2-8992-5d118981f813"
      },
      "execution_count": 22,
      "outputs": [
        {
          "output_type": "execute_result",
          "data": {
            "text/plain": [
              "[0.18257418583505536,\n",
              " 0.3651483716701107,\n",
              " 0.5477225575051661,\n",
              " 0.7302967433402214]"
            ]
          },
          "metadata": {},
          "execution_count": 22
        }
      ]
    },
    {
      "cell_type": "markdown",
      "source": [
        "##**Distancia de Jaccard**"
      ],
      "metadata": {
        "id": "rFec8V-od2nj"
      }
    },
    {
      "cell_type": "code",
      "source": [
        "x = [1,2,3,4]\n",
        "y = [5,6,7,8]"
      ],
      "metadata": {
        "id": "syLEcjk-qXe_"
      },
      "execution_count": 23,
      "outputs": []
    },
    {
      "cell_type": "markdown",
      "source": [
        "**Creamos un vector 3 donde tendremos una tupla la cual se creara con un zip, en la cual se juntaran los 2 vectores(x y y).**"
      ],
      "metadata": {
        "id": "vEqyF9u9rRus"
      }
    },
    {
      "cell_type": "code",
      "source": [
        "z = list(zip(x,y))"
      ],
      "metadata": {
        "id": "zRlF8zmbrS-m"
      },
      "execution_count": 24,
      "outputs": []
    },
    {
      "cell_type": "markdown",
      "source": [
        "**Creamos nuestro RDD con sc**"
      ],
      "metadata": {
        "id": "1hDUlvuzqZRk"
      }
    },
    {
      "cell_type": "code",
      "source": [
        "#Creamos nuestro RDD\n",
        "zRDD = sc.parallelize(z)"
      ],
      "metadata": {
        "id": "GPDNEx6jd5cD"
      },
      "execution_count": 25,
      "outputs": []
    },
    {
      "cell_type": "markdown",
      "source": [
        "**Aplicamos las funciones a nuestro RDD**"
      ],
      "metadata": {
        "id": "Nu65X2tGqU-f"
      }
    },
    {
      "cell_type": "code",
      "source": [
        "#Creamos una varieble con la suma de los productos \n",
        "sumProdRDD = zRDD.map(lambda x: x[0]*x[1]).sum()\n",
        "#Pasamos la funciona map en la cual utilizaremos el siguiente caso\n",
        "# 1 _ = 1\n",
        "# _ 1 = 1\n",
        "# _ _ = 0\n",
        "sumSumRDD = zRDD.map(lambda x: 1 if (x[0]==1 or x[1]==1) else 0 ).sum()\n",
        "#Dividimos ambas variables y este resultado le restamos a 1\n",
        "jaccardRDD = 1 - (sumProdRDD / sumSumRDD)\n",
        "jaccardRDD"
      ],
      "metadata": {
        "colab": {
          "base_uri": "https://localhost:8080/"
        },
        "id": "P3aMvKWcqVZI",
        "outputId": "552b8d7b-6cfc-4f4f-d1bd-e650c81390dc"
      },
      "execution_count": 26,
      "outputs": [
        {
          "output_type": "execute_result",
          "data": {
            "text/plain": [
              "-69.0"
            ]
          },
          "metadata": {},
          "execution_count": 26
        }
      ]
    }
  ]
}