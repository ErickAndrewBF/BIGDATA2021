{
 "cells": [
  {
   "cell_type": "code",
   "execution_count": 61,
   "metadata": {},
   "outputs": [],
   "source": [
    "def conjuntoindividual(playlists):\n",
    "    Listadecanciones = set()\n",
    "    for i in playlists:\n",
    "        Listadecanciones.update(i)\n",
    "    Listadecanciones = list(frozenset(Listadecanciones))\n",
    "    return Listadecanciones\n",
    "#Itemset = list(frozenset(Listadecaciones))\n",
    "#Itemset\n",
    "#len(Itemset)"
   ]
  },
  {
   "cell_type": "code",
   "execution_count": 62,
   "metadata": {},
   "outputs": [],
   "source": [
    "def get_frequent_itemsets(playlists, min_support, Listadecaciones):\n",
    "    Frecuencias = dict()\n",
    "    Soporte = dict()\n",
    "    for i in playlists:\n",
    "        for j in Listadecaciones:\n",
    "            prueba= set(j.split(\", \"))\n",
    "            if (prueba).issubset(i):\n",
    "                if not j in Frecuencias:\n",
    "                    Frecuencias[j] = 1\n",
    "                else:\n",
    "                    Frecuencias[j] += 1\n",
    "    total = len(playlists)\n",
    "    Poda = []\n",
    "    for l in Frecuencias:   \n",
    "        sup = Frecuencias[l]/total\n",
    "        if (sup >= min_support):\n",
    "            Soporte[l] = sup\n",
    "            Poda.append(l)\n",
    "    return Poda, Soporte\n"
   ]
  },
  {
   "cell_type": "code",
   "execution_count": 63,
   "metadata": {},
   "outputs": [],
   "source": [
    "def cambio(palabra):\n",
    "    pala = \"\"\n",
    "    for i in palabra:\n",
    "        if (i != '{' and i != '}' and i != \"'\" and i != \"'\"):\n",
    "            pala += i\n",
    "        #else:\n",
    "         #   pala.replace('\"',\"'\")\n",
    "            \n",
    "    return pala"
   ]
  },
  {
   "cell_type": "code",
   "execution_count": 64,
   "metadata": {},
   "outputs": [],
   "source": [
    "def combinaciones(Poda, tamañodebusqueda):\n",
    "    tamlista = len(Poda)\n",
    "    combinacion= dict()\n",
    "    for i in range(tamlista):\n",
    "        for j in range(i+1, tamlista):\n",
    "            Podak = set(Poda[i].split(\", \")) | set(Poda[j].split(\", \"))\n",
    "            if len(Podak) == tamañodebusqueda:\n",
    "                Podak = cambio(str(Podak))\n",
    "                if (Podak in combinacion) != True:\n",
    "                    combinacion[Podak] = 1\n",
    "    return list(combinacion)                         "
   ]
  },
  {
   "cell_type": "markdown",
   "metadata": {},
   "source": [
    "Importamos las librerias necesarias en este caso la de **numpy**."
   ]
  },
  {
   "cell_type": "code",
   "execution_count": 65,
   "metadata": {},
   "outputs": [],
   "source": [
    "import numpy as np"
   ]
  },
  {
   "cell_type": "markdown",
   "metadata": {},
   "source": [
    "Cargamos los datos del archivo **\"spotifys.npy\"**"
   ]
  },
  {
   "cell_type": "code",
   "execution_count": 66,
   "metadata": {},
   "outputs": [],
   "source": [
    "Datos = np.load(\"spotifys.npy\",allow_pickle=True)"
   ]
  },
  {
   "cell_type": "markdown",
   "metadata": {},
   "source": [
    "Convertimos el archivo cargado en una lista y este lo almacenamos en una nueva varible **\"Listadedatos\"**"
   ]
  },
  {
   "cell_type": "code",
   "execution_count": 67,
   "metadata": {},
   "outputs": [],
   "source": [
    "Listadedatos = Datos.tolist()"
   ]
  },
  {
   "cell_type": "markdown",
   "metadata": {},
   "source": [
    "Pasamos a hallar el total de canciones sin sus repeticiones para ellos utilizamos la funcion: \n",
    "\n",
    " 1.- **set()** la cual se encarga de eliminar los datos repetidos y a la vez nos devuelve los datos en orden de menor a mayor, en este caso siendo datos categoricos lo ordena de acuerdo al orden orden alfabetico y en caso existan valores especiales (\", #, %, !, ...) estos van primero.\n",
    "\n",
    " 2.- Utilizamos un **for** ya que este nos permite iterar en la variable de datos **Listadedatos** y asi obtenemos las canciones totales \n",
    "\n",
    " 3.- Guardamos los datos en la variable **playlists**"
   ]
  },
  {
   "cell_type": "code",
   "execution_count": 68,
   "metadata": {},
   "outputs": [
    {
     "data": {
      "text/plain": [
       "10000"
      ]
     },
     "execution_count": 68,
     "metadata": {},
     "output_type": "execute_result"
    }
   ],
   "source": [
    "playlists = [set(Listadedatos[i]) for i in Listadedatos ]\n",
    "len(playlists)"
   ]
  },
  {
   "cell_type": "markdown",
   "metadata": {},
   "source": [
    "Llamamos a la funcion **conjuntoindividual** y guardamos los resultados en la variable **Listadecanciones** "
   ]
  },
  {
   "cell_type": "code",
   "execution_count": 69,
   "metadata": {},
   "outputs": [],
   "source": [
    "Listadecanciones = conjuntoindividual(playlists)"
   ]
  },
  {
   "cell_type": "markdown",
   "metadata": {},
   "source": [
    "Llamamos a la **funcion get_frequent_itemsets** en la cual pasamos los datos de **playlist**, el soporte que utilizaremos que sera de 0.01, y por ultimo pasamos los datos de **Listadecanciones** para obtener las canciones que cubren el soporte indicado."
   ]
  },
  {
   "cell_type": "code",
   "execution_count": 70,
   "metadata": {},
   "outputs": [],
   "source": [
    "Poda, Soporte = get_frequent_itemsets(playlists, 0.01, Listadecanciones)\n",
    "len(Poda)"
   ]
  },
  {
   "cell_type": "markdown",
   "metadata": {},
   "source": [
    "Creamos un array donde guardaremos todos los **valores podados** ya que estos nos ayudaran a saber cual es la ultima iteracion(esto sera mejor explicado en la utilizacion de todos los modulos)."
   ]
  },
  {
   "cell_type": "code",
   "execution_count": null,
   "metadata": {},
   "outputs": [],
   "source": [
    "Podas = [Poda]"
   ]
  },
  {
   "cell_type": "markdown",
   "metadata": {},
   "source": [
    "Inicializamos una variable que nos permita recuperar la primera lista podada que este caso seria la de la posicion 0 ya que dentro de **Podas** solo existe **Poda** en dicha posicion.\n",
    "\n",
    "**tamañodebusqueda = 0** "
   ]
  },
  {
   "cell_type": "code",
   "execution_count": null,
   "metadata": {},
   "outputs": [],
   "source": [
    "tamañodebusqueda=0"
   ]
  },
  {
   "cell_type": "markdown",
   "metadata": {},
   "source": [
    "Pero teniendo el conocimiento que **tamañodebusqueda** nos permitira saber las veces que debe combinarse los datos en este caso Poda tiene los datos de manera individual lo cual ahora tocaria hallar las combinaciones de 2 en 2 para ello tendriamos que el valor de la variable **tamañodebusqueda** seria de 2.\n",
    "\n",
    "Pero como anteriormente la habiamos iniciado en 0 ahora la cambiamos a 2 para poder simplificar el conteo de datos dentro de **Poda** y no tener que buscar la combinacion existente dentro de esta."
   ]
  },
  {
   "cell_type": "code",
   "execution_count": null,
   "metadata": {},
   "outputs": [],
   "source": [
    "tamañodebusqueda = 2"
   ]
  },
  {
   "cell_type": "markdown",
   "metadata": {},
   "source": [
    "Pasamos a hallar las **podas** y **soportes** de todas las combinaciones, pero como esta cantidad de combinaciones no es conocida pasamos a utilizar un while en el cual haremos uso de la del tamaño de **Podas** ya que si este al actualizarse esta vacio no tendra un tamaño y sera igual a **0** siendo este el que determine la cantidad de veces que se utilice el while\n",
    "\n",
    "1.- En la linea 2 lo que buscamos es recuperar todas las combinaciones totales, para esto usamos el modulo **combinaciones** al cual le pasamos el arreglo de todas las podas y recuperamos el primero el cual tiene todos los valores individuales, y como segundo parametro la variable **tamañodebusqueda** la cual definimos en 2 ya que este nos permitira generar las combinaciones de 2 en 2.\n",
    "\n",
    "2.- En la linea 3 recuperamos el nuevo valor podado y el soporte del mismo.\n",
    "\n",
    "3.- En la linea 4 agregamos el nuevo soporte a nuestro array de soportes ya que este nos servira para hallar el confidence y el lift\n",
    "\n",
    "4.- En la linea 5 agregarmos la nueva poda al valor de podas.\n",
    "\n",
    "5.- Y por ultimo incrementamos nuestra varable **tamañodebusqueda** en 1 ya que ahora pasaremos a hallar el siguiente grupo de combinaciones con este dato "
   ]
  },
  {
   "cell_type": "code",
   "execution_count": null,
   "metadata": {},
   "outputs": [],
   "source": [
    "while (len(Podas[tamañodebusqueda-2]) > 0):\n",
    "    combi = combinaciones(Podas[tamañodebusqueda-2], tamañodebusqueda) \n",
    "    Poda, Sopor = get_frequent_itemsets(playlists, 0.01, combi)\n",
    "    Soporte.update(Sopor)\n",
    "    Podas.append(Poda)\n",
    "    tamañodebusqueda += 1 "
   ]
  }
 ],
 "metadata": {
  "interpreter": {
   "hash": "ac59ebe37160ed0dfa835113d9b8498d9f09ceb179beaac4002f036b9467c963"
  },
  "kernelspec": {
   "display_name": "Python 3.9.2 64-bit",
   "name": "python3"
  },
  "language_info": {
   "codemirror_mode": {
    "name": "ipython",
    "version": 3
   },
   "file_extension": ".py",
   "mimetype": "text/x-python",
   "name": "python",
   "nbconvert_exporter": "python",
   "pygments_lexer": "ipython3",
   "version": "3.9.2"
  },
  "orig_nbformat": 4
 },
 "nbformat": 4,
 "nbformat_minor": 2
}
